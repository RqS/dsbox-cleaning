{
 "cells": [
  {
   "cell_type": "code",
   "execution_count": 10,
   "metadata": {},
   "outputs": [
    {
     "name": "stdout",
     "output_type": "stream",
     "text": [
      "./greedy.txt : 0.420728597743\n",
      "./iteratively_regre.txt : 0.423729876825\n",
      "./knn5.txt : 0.419927312947\n",
      "./knn5_norm.txt : 0.423976850962\n",
      "./mice.txt : 0.421065140768\n"
     ]
    }
   ],
   "source": [
    "# 28 total = 11 regression + 17 classification\n",
    "\n",
    "import glob\n",
    "files = glob.glob('./*.txt')\n",
    "# print files\n",
    "\n",
    "for each in files:\n",
    "    f = open(each)\n",
    "    result = f.read().split(\", \")\n",
    "    value = map(float, result[:-1])\n",
    "    avg = sum(value) / len(value)\n",
    "    print each + \" : \" + str(avg)"
   ]
  },
  {
   "cell_type": "code",
   "execution_count": 3,
   "metadata": {},
   "outputs": [
    {
     "data": {
      "text/plain": [
       "0.12"
      ]
     },
     "execution_count": 3,
     "metadata": {},
     "output_type": "execute_result"
    }
   ],
   "source": []
  },
  {
   "cell_type": "code",
   "execution_count": null,
   "metadata": {
    "collapsed": true
   },
   "outputs": [],
   "source": []
  }
 ],
 "metadata": {
  "kernelspec": {
   "display_name": "Python 2",
   "language": "python",
   "name": "python2"
  },
  "language_info": {
   "codemirror_mode": {
    "name": "ipython",
    "version": 2
   },
   "file_extension": ".py",
   "mimetype": "text/x-python",
   "name": "python",
   "nbconvert_exporter": "python",
   "pygments_lexer": "ipython2",
   "version": "2.7.13"
  }
 },
 "nbformat": 4,
 "nbformat_minor": 2
}
